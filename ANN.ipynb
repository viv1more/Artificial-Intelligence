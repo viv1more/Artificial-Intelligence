{
  "nbformat": 4,
  "nbformat_minor": 0,
  "metadata": {
    "colab": {
      "provenance": [],
      "authorship_tag": "ABX9TyOF5PJxLYpWzy7z/O05dja0",
      "include_colab_link": true
    },
    "kernelspec": {
      "name": "python3",
      "display_name": "Python 3"
    },
    "language_info": {
      "name": "python"
    }
  },
  "cells": [
    {
      "cell_type": "markdown",
      "metadata": {
        "id": "view-in-github",
        "colab_type": "text"
      },
      "source": [
        "<a href=\"https://colab.research.google.com/github/viv1more/Artificial-Intelligence/blob/main/ANN.ipynb\" target=\"_parent\"><img src=\"https://colab.research.google.com/assets/colab-badge.svg\" alt=\"Open In Colab\"/></a>"
      ]
    },
    {
      "cell_type": "code",
      "execution_count": 1,
      "metadata": {
        "colab": {
          "base_uri": "https://localhost:8080/"
        },
        "id": "gJ8tyPXk01uU",
        "outputId": "466c97d1-e451-4784-ab7f-1d5263079136"
      },
      "outputs": [
        {
          "output_type": "stream",
          "name": "stdout",
          "text": [
            "Beginning Randomly Generated Weights: \n",
            "[[-0.16595599]\n",
            " [ 0.44064899]\n",
            " [-0.99977125]]\n",
            "Ending Weights After Training: \n",
            "[[10.08740896]\n",
            " [-0.20695366]\n",
            " [-4.83757835]]\n",
            "User Input One: 15\n",
            "User Input Two: 23\n",
            "User Input Three: 26\n",
            "Considering New Situation:  15 23 26\n",
            "New Output data: \n",
            "[1.]\n",
            "Wow, we did it!\n"
          ]
        }
      ],
      "source": [
        "import numpy as np\n",
        " \n",
        "class NeuralNetwork():\n",
        "    \n",
        "    def __init__(self):\n",
        "        # seeding for random number generation\n",
        "        np.random.seed(1)\n",
        "        \n",
        "        #converting weights to a 3 by 1 matrix with values from -1 to 1 and mean of 0\n",
        "        self.synaptic_weights = 2 * np.random.random((3, 1)) - 1\n",
        " \n",
        "    def sigmoid(self, x):\n",
        "        #applying the sigmoid function\n",
        "        return 1 / (1 + np.exp(-x))\n",
        " \n",
        "    def sigmoid_derivative(self, x):\n",
        "        #computing derivative to the Sigmoid function\n",
        "        return x * (1 - x)\n",
        " \n",
        "    def train(self, training_inputs, training_outputs, training_iterations):\n",
        "        \n",
        "        #training the model to make accurate predictions while adjusting weights continually\n",
        "        for iteration in range(training_iterations):\n",
        "            #siphon the training data via the neuron\n",
        "            output = self.think(training_inputs)\n",
        " \n",
        "            #computing error rate for back-propagation\n",
        "            error = training_outputs - output\n",
        "            \n",
        "            #performing weight adjustments\n",
        "            adjustments = np.dot(training_inputs.T, error * self.sigmoid_derivative(output))\n",
        " \n",
        "            self.synaptic_weights += adjustments\n",
        " \n",
        "    def think(self, inputs):\n",
        "        #passing the inputs via the neuron to get output   \n",
        "        #converting values to floats\n",
        "        \n",
        "        inputs = inputs.astype(float)\n",
        "        output = self.sigmoid(np.dot(inputs, self.synaptic_weights))\n",
        "        return output\n",
        " \n",
        " \n",
        "if __name__ == \"__main__\":\n",
        " \n",
        "    #initializing the neuron class\n",
        "    neural_network = NeuralNetwork()\n",
        " \n",
        "    print(\"Beginning Randomly Generated Weights: \")\n",
        "    print(neural_network.synaptic_weights)\n",
        " \n",
        "    #training data consisting of 4 examples--3 input values and 1 output\n",
        "    training_inputs = np.array([[0,0,1],\n",
        "                                [1,1,1],\n",
        "                                [1,0,1],\n",
        "                                [0,1,1]])\n",
        " \n",
        "    training_outputs = np.array([[0,1,1,0]]).T\n",
        " \n",
        "    #training taking place\n",
        "    neural_network.train(training_inputs, training_outputs, 15000)\n",
        " \n",
        "    print(\"Ending Weights After Training: \")\n",
        "    print(neural_network.synaptic_weights)\n",
        " \n",
        "    user_input_one = str(input(\"User Input One: \"))\n",
        "    user_input_two = str(input(\"User Input Two: \"))\n",
        "    user_input_three = str(input(\"User Input Three: \"))\n",
        "    \n",
        "    print(\"Considering New Situation: \", user_input_one, user_input_two, user_input_three)\n",
        "    print(\"New Output data: \")\n",
        "    print(neural_network.think(np.array([user_input_one, user_input_two, user_input_three])))\n",
        "    print(\"Wow, we did it!\")\n"
      ]
    }
  ]
}