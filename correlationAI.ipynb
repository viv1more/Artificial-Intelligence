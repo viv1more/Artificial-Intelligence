{
  "nbformat": 4,
  "nbformat_minor": 0,
  "metadata": {
    "colab": {
      "provenance": [],
      "mount_file_id": "1BT6CxDLTKG-x6hUE-haq0iiU8npjnPdz",
      "authorship_tag": "ABX9TyOW1pE62kICIBiI3ZQYVHv+",
      "include_colab_link": true
    },
    "kernelspec": {
      "name": "python3",
      "display_name": "Python 3"
    },
    "language_info": {
      "name": "python"
    }
  },
  "cells": [
    {
      "cell_type": "markdown",
      "metadata": {
        "id": "view-in-github",
        "colab_type": "text"
      },
      "source": [
        "<a href=\"https://colab.research.google.com/github/viv1more/Artificial-Intelligence/blob/main/correlationAI.ipynb\" target=\"_parent\"><img src=\"https://colab.research.google.com/assets/colab-badge.svg\" alt=\"Open In Colab\"/></a>"
      ]
    },
    {
      "cell_type": "code",
      "execution_count": 1,
      "metadata": {
        "colab": {
          "base_uri": "https://localhost:8080/",
          "height": 300
        },
        "id": "7DweoEZOfKYW",
        "outputId": "92c56738-4b63-4329-a0d9-cec9939fbf5a"
      },
      "outputs": [
        {
          "output_type": "stream",
          "name": "stdout",
          "text": [
            "Pearsons Correlation: 0.971\n"
          ]
        },
        {
          "output_type": "execute_result",
          "data": {
            "text/plain": [
              "[<matplotlib.lines.Line2D at 0x7f5eb68b5c10>]"
            ]
          },
          "metadata": {},
          "execution_count": 1
        },
        {
          "output_type": "display_data",
          "data": {
            "text/plain": [
              "<Figure size 432x288 with 1 Axes>"
            ],
            "image/png": "[encoded data removed]"
          },
          "metadata": {
            "needs_background": "light"
          }
        }
      ],
      "source": [
        "#Vivek More\n",
        "\n",
        "import numpy as np\n",
        "import matplotlib.pyplot as plt\n",
        "from scipy.stats import pearsonr\n",
        "x=7,8,9,11,15,20\n",
        "y=130,135,140,142,147,156\n",
        "corr,_=pearsonr(x,y)\n",
        "print('Pearsons Correlation: %.3f'%corr)\n",
        "plt.scatter(x,y)\n",
        "plt.plot(np.unique (x), np.poly1d (np.polyfit(x,y,1))(np.unique(x)), color ='blue')"
      ]
    }
  ]
}