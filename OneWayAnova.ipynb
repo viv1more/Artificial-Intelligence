{
  "nbformat": 4,
  "nbformat_minor": 0,
  "metadata": {
    "colab": {
      "provenance": [],
      "authorship_tag": "ABX9TyOoc+zW0sdi4g4Z4Rv3A6OB",
      "include_colab_link": true
    },
    "kernelspec": {
      "name": "python3",
      "display_name": "Python 3"
    },
    "language_info": {
      "name": "python"
    }
  },
  "cells": [
    {
      "cell_type": "markdown",
      "metadata": {
        "id": "view-in-github",
        "colab_type": "text"
      },
      "source": [
        "<a href=\"https://colab.research.google.com/github/viv1more/Artificial-Intelligence/blob/main/OneWayAnova.ipynb\" target=\"_parent\"><img src=\"https://colab.research.google.com/assets/colab-badge.svg\" alt=\"Open In Colab\"/></a>"
      ]
    },
    {
      "cell_type": "code",
      "source": [
        "# One Way ANOVA\n",
        "from scipy.stats import f_oneway\n",
        " \n",
        "# Performance when each of the engine\n",
        "# oil is applied\n",
        "performance1 = [70,80,62,75,55,71]\n",
        "performance2 = [60,65,63,71,69,68]\n",
        "performance3 = [77,78,75,72,70,71]\n",
        " \n",
        "# Conduct the one-way ANOVA\n",
        "print(f_oneway(performance1, performance2, performance3))\n",
        "\n",
        "##OUTPUT###\n"
      ],
      "metadata": {
        "colab": {
          "base_uri": "https://localhost:8080/",
          "height": 0
        },
        "id": "vSL-uV0kmCX6",
        "outputId": "0635cd22-1bd9-491e-acdf-41184ba2924c"
      },
      "execution_count": 8,
      "outputs": [
        {
          "output_type": "stream",
          "name": "stdout",
          "text": [
            "F_onewayResult(statistic=2.5946854001221746, pvalue=0.10771186852305835)\n"
          ]
        }
      ]
    }
  ]
}